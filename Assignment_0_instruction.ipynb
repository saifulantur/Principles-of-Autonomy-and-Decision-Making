{
 "cells": [
  {
   "cell_type": "markdown",
   "metadata": {},
   "source": [
    "## Assignment 0:\n",
    "\n",
    "**Due Date:** 17.04.2024, 23:59 Central European Summer Time (CEST)</br>\n",
    "**Grade:** Ungraded and Compulsory"
   ]
  },
  {
   "cell_type": "markdown",
   "metadata": {},
   "source": [
    "### Task 1: Bank Account Class\n",
    "\n",
    "Define a class called **BankAccount** that emulates an actual bank account. The class should have two attributes namely *account_holder* which holds the name of the account holder as a *string* and *balance* which holds the current balance (in €) of the account. The class should have three methods namely **deposit()**, **withdraw()** and **display_balance()**. Please note that only integer currencies are allowed in your bank i.e. the minimum possible denomination for deposit and withdrawal is 1 €. You should enforce this condition throughout your code even if not mentioned explicitely.\n",
    "\n",
    "#### Steps:\n",
    "1.) The **deposit** method adds *amount* to the account *balance* and it should only deposit the *amount* if it is a positive integer. After calling this method, it should print *\"\\<amount\\> has been deposited. New balance is \\<new balance\\>\"*. If the *amount* is negative or of invalid data-type it should print *\"Deposit amount must be positive\"*. </br>\n",
    "\n",
    "2.) The **withdraw** method should reduce the *balance* by the *amount* withdrawn by the account holder only if the *amount* is a positive integer. If the *amount* being withdrawn is greater than the *balance*, it should print *Insufficient funds*. If the withdraw was successful, it should print *\"\\<amount\\> withdrawn. New balance is \\<new balance\\>\"*.</br>\n",
    "\n",
    "3.) The **display_balance** method, when called, should display the current *balance* of the account by printing *\"The current balance is \\<balance\\>.\"* </br>\n",
    "\n",
    "4.) Open your own bank account called *my_account*. Pass your name as the *account_holder* and define a starting balance of *100 €*. </br>\n",
    "\n",
    "5.) Run the test code that is provided below to check for the correctness of your code.\n",
    "\n",
    "**Note:** <...> brackets are used as place holders where actual values should be replaced by your code."
   ]
  },
  {
   "cell_type": "code",
   "execution_count": null,
   "metadata": {},
   "outputs": [],
   "source": [
    "# Steps 1-3: Define your Bank Account Class below 💸\n",
    "# ----------\n",
    "\n",
    "\n"
   ]
  },
  {
   "cell_type": "code",
   "execution_count": null,
   "metadata": {},
   "outputs": [],
   "source": [
    "# Step 4: Create your own bank account below\n",
    "# -------\n",
    "\n",
    "\n"
   ]
  },
  {
   "cell_type": "code",
   "execution_count": null,
   "metadata": {},
   "outputs": [],
   "source": [
    "# Step 5: Test your class (Do not modify the code)\n",
    "# -------\n",
    "my_account.deposit(150)\n",
    "my_account.withdraw(80)\n",
    "print(f\"The current balance is {my_account.balance} Euro\")"
   ]
  },
  {
   "cell_type": "markdown",
   "metadata": {},
   "source": [
    "**Expected output:** The current balance is 170 Euro."
   ]
  },
  {
   "cell_type": "markdown",
   "metadata": {},
   "source": [
    "### Task 2: Analyzing Weather Data (NumPy exercise)\n",
    "\n",
    "The daily temperature data for 4 different cities for the whole week is given below as a numpy array of shape (7, 4, 3). Here, 7 represents the 7 days in a week with Sunday being the first day of the week. 4 represents the 4 different cities namely *Berlin*, *Hamburg*, *Ingolstadt* and *Frankfurt* respectively. 3 represents *morning*, *afternoon* and *evening* respectively.\n",
    "\n",
    "Please solve all five sub-tasks from *2.1* to *2.5*."
   ]
  },
  {
   "cell_type": "code",
   "execution_count": null,
   "metadata": {},
   "outputs": [],
   "source": [
    "# Given weather data: Please do not modify the below code\n",
    "# -------------------\n",
    "import numpy as np\n",
    "\n",
    "np.random.seed(100)\n",
    "temperature_data = np.random.randint(low=1, high=20, size=(7, 4, 3), dtype=np.int8)\n",
    "\n",
    "print(\"Given temperature data:  \\n\", temperature_data)"
   ]
  },
  {
   "cell_type": "markdown",
   "metadata": {},
   "source": [
    "#### Sub-task 2.1: \n",
    "\n",
    "Get Monday's morning temperature in Ingolstadt."
   ]
  },
  {
   "cell_type": "code",
   "execution_count": null,
   "metadata": {},
   "outputs": [],
   "source": [
    "# Your code below:\n",
    "# ----------------\n",
    "\n",
    "\n"
   ]
  },
  {
   "cell_type": "markdown",
   "metadata": {},
   "source": [
    "**Expected output:** Monday's morning temperature in Ingolstadt is 11 deg C."
   ]
  },
  {
   "cell_type": "markdown",
   "metadata": {},
   "source": [
    "#### Sub-task 2.2: \n",
    "\n",
    "Get the days (indices) when Berlin had a morning temperature that was less than 10 deg C."
   ]
  },
  {
   "cell_type": "code",
   "execution_count": null,
   "metadata": {},
   "outputs": [],
   "source": [
    "# Your code below:\n",
    "# ----------------\n",
    "\n",
    "\n"
   ]
  },
  {
   "cell_type": "markdown",
   "metadata": {},
   "source": [
    "**Expected output:** Indices of days when Berlin had a morning temperature < 10 deg C: </br>\n",
    " [[0]</br>\n",
    " [2]</br>\n",
    " [3]</br>\n",
    " [6]]"
   ]
  },
  {
   "cell_type": "markdown",
   "metadata": {},
   "source": [
    "#### Sub-task 2.3: \n",
    "\n",
    "Add the 7-day temperature data of Munich which is given below to the *temperature_data* and overwrite it."
   ]
  },
  {
   "cell_type": "code",
   "execution_count": null,
   "metadata": {},
   "outputs": [],
   "source": [
    "# Given Munich data: Please do not modify the below code\n",
    "# ------------------\n",
    "np.random.seed(100)\n",
    "munich_data = np.random.randint(low=1, high=20, size=(7, 3), dtype=np.int8)\n",
    "\n",
    "# Your code below:\n",
    "# ----------------\n",
    "\n",
    "\n"
   ]
  },
  {
   "cell_type": "markdown",
   "metadata": {},
   "source": [
    "**Expected output:** New temperature dataset: </br>\n",
    " [[[ 9 12 17]</br>\n",
    "  [12  4  4]</br>\n",
    "  [ 8  8 10]</br>\n",
    "  [16 14 13]</br>\n",
    "  [ 9 12 17]]</br>\n",
    "</br>\n",
    " [[16  1  2]</br>\n",
    "  [ 7 17  4]</br>\n",
    "  [11 11  7]</br>\n",
    "  [ 2  2  9]</br>\n",
    "  [12  4  4]]</br>\n",
    "\n",
    " [[ 3  8 17]</br>\n",
    "  [16  3 12]</br>\n",
    "  [ 3 10 15]</br>\n",
    "  [12  3  4]</br>\n",
    "  [ 8  8 10]]</br>\n",
    "\n",
    " [[ 7 18  3]</br>\n",
    "  [17 11  2]</br>\n",
    "  [18 16  7]</br>\n",
    "  [14 17  5]</br>\n",
    "  [16 14 13]]</br>\n",
    "\n",
    " [[13 14  5]</br>\n",
    "  [12  8 19]</br>\n",
    "  [ 6 15  6]</br>\n",
    "  [17 12 18]</br>\n",
    "  [16  1  2]]</br>\n",
    "\n",
    " [[16  6 19]</br>\n",
    "  [16 10  2]</br>\n",
    "  [ 3 10 15]</br>\n",
    "  [ 8 13  8]</br>\n",
    "  [ 7 17  4]]</br>\n",
    "\n",
    " [[ 5 11 16]</br>\n",
    "  [10 13  1]</br>\n",
    "  [ 2  5 13]</br>\n",
    "  [14 13 17]</br>\n",
    "  [11 11  7]]]"
   ]
  },
  {
   "cell_type": "markdown",
   "metadata": {},
   "source": [
    "#### Sub-task 2.4: \n",
    "\n",
    "Calculate the daily average temperature of each city for the entire week. "
   ]
  },
  {
   "cell_type": "code",
   "execution_count": null,
   "metadata": {},
   "outputs": [],
   "source": [
    "# Your code below:\n",
    "# ---------------\n",
    "\n",
    "\n"
   ]
  },
  {
   "cell_type": "markdown",
   "metadata": {},
   "source": [
    "*Expected output:** Daily average temperature of each city for the whole week:</br> \n",
    " [[12.66666667  6.66666667  8.66666667 14.33333333 12.66666667]</br>\n",
    " [ 6.33333333  9.33333333  9.66666667  4.33333333  6.66666667]</br>\n",
    " [ 9.33333333 10.33333333  9.33333333  6.33333333  8.66666667]</br>\n",
    " [ 9.33333333 10.         13.66666667 12.         14.33333333]</br>\n",
    " [10.66666667 13.          9.         15.66666667  6.33333333]</br>\n",
    " [13.66666667  9.33333333  9.33333333  9.66666667  9.33333333]</br>\n",
    " [10.66666667  8.          6.66666667 14.66666667  9.66666667]]"
   ]
  },
  {
   "cell_type": "markdown",
   "metadata": {},
   "source": [
    "#### Sub-task 2.5: \n",
    "\n",
    "Find the *city/cities* with the lowest daily temperature variation (max-min). Also find the respective *day*. The result can be a 2D numpy array with day and city information as shown in the **Expected output** below."
   ]
  },
  {
   "cell_type": "code",
   "execution_count": null,
   "metadata": {},
   "outputs": [],
   "source": [
    "# Your code below:\n",
    "# ----------------\n",
    "\n",
    "\n"
   ]
  },
  {
   "cell_type": "markdown",
   "metadata": {},
   "source": [
    "**Expected output:** Days, cities with the lowest daily temperature variation: </br>\n",
    " [[0 2]</br>\n",
    " [2 4]]</br>\n",
    "\n",
    " Here, [0 2] indicates that the lowest temperature variation (max-min) i.e. 2 deg C was on a Sunday in Ingolstadt and [2 4] indicates that the same 2 deg C variation which is the lowest for the dataset provided was found on a Tuesday in Munich."
   ]
  },
  {
   "cell_type": "code",
   "execution_count": null,
   "metadata": {},
   "outputs": [],
   "source": []
  }
 ],
 "metadata": {
  "kernelspec": {
   "display_name": "decision_making",
   "language": "python",
   "name": "python3"
  },
  "language_info": {
   "codemirror_mode": {
    "name": "ipython",
    "version": 3
   },
   "file_extension": ".py",
   "mimetype": "text/x-python",
   "name": "python",
   "nbconvert_exporter": "python",
   "pygments_lexer": "ipython3",
   "version": "3.11.8"
  }
 },
 "nbformat": 4,
 "nbformat_minor": 2
}
