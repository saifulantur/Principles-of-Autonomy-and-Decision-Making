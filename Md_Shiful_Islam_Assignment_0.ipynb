{
 "cells": [
  {
   "cell_type": "raw",
   "id": "7c2825e1-259a-4ac1-b215-fa7e2e1b7f3e",
   "metadata": {},
   "source": [
    "Task 1"
   ]
  },
  {
   "cell_type": "code",
   "execution_count": 1,
   "id": "5c3617dd-af5b-44f8-ab49-d286edb592cd",
   "metadata": {},
   "outputs": [
    {
     "name": "stdout",
     "output_type": "stream",
     "text": [
      "150 € has been deposited. New balance is 250 €.\n",
      "80 € withdrawn. New balance is 170 €.\n",
      "The current balance is 170 Euro\n"
     ]
    }
   ],
   "source": [
    "class BankAccount:\n",
    "    def __init__(self, account_holder, balance):\n",
    "        self.account_holder = account_holder\n",
    "        self.balance = balance\n",
    "\n",
    "    def deposit(self, amount):\n",
    "        if isinstance( amount, int ) and amount >= 1:\n",
    "            self.balance += amount\n",
    "            print(f\"{amount} € has been deposited. New balance is {self.balance} €.\")\n",
    "        else:\n",
    "            print(\"Deposit amount must be positive\")\n",
    "            \n",
    "    def withdraw(self, amount):\n",
    "        if isinstance( amount, int ) and amount >= 1:\n",
    "            if (amount > self.balance):\n",
    "                print(\"Insufficient funds\")\n",
    "            else:\n",
    "                self.balance = self.balance - amount\n",
    "                print(f\"{amount} € withdrawn. New balance is {self.balance} €.\")\n",
    "        else:\n",
    "            print(\"Deposit amount must be positive\")\n",
    "\n",
    "    def display_balance(self):\n",
    "        print(f\"The current balance is {self.balance} €.\")\n",
    "            \n",
    "my_account = BankAccount(\"Md Shiful Islam\", 100)\n",
    "\n",
    "#my_account.deposit(150)\n",
    "#my_account.withdraw(80)\n",
    "#my_account.display_balance()\n",
    "\n",
    "my_account.deposit(150)\n",
    "my_account.withdraw(80)\n",
    "print(f\"The current balance is {my_account.balance} Euro\")"
   ]
  },
  {
   "cell_type": "raw",
   "id": "bf458174-7391-48de-b6be-b1fb4d816a51",
   "metadata": {},
   "source": [
    "Task 2"
   ]
  },
  {
   "cell_type": "code",
   "execution_count": 1,
   "id": "9dc86782-2e46-4232-a7fd-0844cc71aebd",
   "metadata": {
    "scrolled": true
   },
   "outputs": [
    {
     "name": "stdout",
     "output_type": "stream",
     "text": [
      "Given temperature data:  \n",
      " [[[ 9 12 17]\n",
      "  [12  4  4]\n",
      "  [ 8  8 10]\n",
      "  [16 14 13]]\n",
      "\n",
      " [[16  1  2]\n",
      "  [ 7 17  4]\n",
      "  [11 11  7]\n",
      "  [ 2  2  9]]\n",
      "\n",
      " [[ 3  8 17]\n",
      "  [16  3 12]\n",
      "  [ 3 10 15]\n",
      "  [12  3  4]]\n",
      "\n",
      " [[ 7 18  3]\n",
      "  [17 11  2]\n",
      "  [18 16  7]\n",
      "  [14 17  5]]\n",
      "\n",
      " [[13 14  5]\n",
      "  [12  8 19]\n",
      "  [ 6 15  6]\n",
      "  [17 12 18]]\n",
      "\n",
      " [[16  6 19]\n",
      "  [16 10  2]\n",
      "  [ 3 10 15]\n",
      "  [ 8 13  8]]\n",
      "\n",
      " [[ 5 11 16]\n",
      "  [10 13  1]\n",
      "  [ 2  5 13]\n",
      "  [14 13 17]]]\n"
     ]
    }
   ],
   "source": [
    "# Given weather data: Please do not modify the below code\n",
    "# -------------------\n",
    "import numpy as np\n",
    "\n",
    "np.random.seed(100)\n",
    "temperature_data = np.random.randint(low=1, high=20, size=(7, 4, 3), dtype=np.int8)\n",
    "\n",
    "print(\"Given temperature data:  \\n\", temperature_data)"
   ]
  },
  {
   "cell_type": "raw",
   "id": "7c19b918-b6dc-418c-ae50-1f8acc613a22",
   "metadata": {},
   "source": [
    "Sub-task 2.1:\n",
    "Get Monday's morning temperature in Ingolstadt."
   ]
  },
  {
   "cell_type": "code",
   "execution_count": 3,
   "id": "5c905512-dffc-4f84-9a58-e7e770f70e16",
   "metadata": {},
   "outputs": [
    {
     "name": "stdout",
     "output_type": "stream",
     "text": [
      "Monday's morning temperature in Ingolstadt is 11 deg C.\n"
     ]
    }
   ],
   "source": [
    "print(f\"Monday's morning temperature in Ingolstadt is {temperature_data[1, 2, 0]} deg C.\")"
   ]
  },
  {
   "cell_type": "raw",
   "id": "872a81b4-2af5-4c3e-9156-490a57b447e5",
   "metadata": {},
   "source": [
    "Sub-task 2.2:\n",
    "Get the days (indices) when Berlin had a morning temperature that was less than 10 deg C."
   ]
  },
  {
   "cell_type": "code",
   "execution_count": 5,
   "id": "c791066c-a3de-4742-85b0-2e76cc908799",
   "metadata": {},
   "outputs": [
    {
     "name": "stdout",
     "output_type": "stream",
     "text": [
      "Indices of days when Berlin had a morning temperature < 10 deg C:\n",
      "[[0]\n",
      " [2]\n",
      " [3]\n",
      " [6]]\n"
     ]
    }
   ],
   "source": [
    "berlin_morning_indices = np.where(temperature_data[:, 0, 0] < 10)[0]\n",
    "print(\"Indices of days when Berlin had a morning temperature < 10 deg C:\")\n",
    "print(berlin_morning_indices.reshape(-1, 1))"
   ]
  },
  {
   "cell_type": "raw",
   "id": "d534c133-addf-4baa-81e4-a7810a5436dd",
   "metadata": {},
   "source": [
    "Sub-task 2.3:\n",
    "Add the 7-day temperature data of Munich which is given below to the temperature_data and overwrite it."
   ]
  },
  {
   "cell_type": "code",
   "execution_count": 2,
   "id": "4023b970-3ed7-46f6-bf91-8ab7231b982e",
   "metadata": {},
   "outputs": [
    {
     "name": "stdout",
     "output_type": "stream",
     "text": [
      "\n",
      " New temperature dataset: \n",
      " [[[ 9 12 17]\n",
      "  [12  4  4]\n",
      "  [ 8  8 10]\n",
      "  [16 14 13]\n",
      "  [ 9 12 17]]\n",
      "\n",
      " [[16  1  2]\n",
      "  [ 7 17  4]\n",
      "  [11 11  7]\n",
      "  [ 2  2  9]\n",
      "  [12  4  4]]\n",
      "\n",
      " [[ 3  8 17]\n",
      "  [16  3 12]\n",
      "  [ 3 10 15]\n",
      "  [12  3  4]\n",
      "  [ 8  8 10]]\n",
      "\n",
      " [[ 7 18  3]\n",
      "  [17 11  2]\n",
      "  [18 16  7]\n",
      "  [14 17  5]\n",
      "  [16 14 13]]\n",
      "\n",
      " [[13 14  5]\n",
      "  [12  8 19]\n",
      "  [ 6 15  6]\n",
      "  [17 12 18]\n",
      "  [16  1  2]]\n",
      "\n",
      " [[16  6 19]\n",
      "  [16 10  2]\n",
      "  [ 3 10 15]\n",
      "  [ 8 13  8]\n",
      "  [ 7 17  4]]\n",
      "\n",
      " [[ 5 11 16]\n",
      "  [10 13  1]\n",
      "  [ 2  5 13]\n",
      "  [14 13 17]\n",
      "  [11 11  7]]]\n"
     ]
    }
   ],
   "source": [
    "np.random.seed(100)\n",
    "munich_data = np.random.randint(low=1, high=20, size=(7, 3), dtype=np.int8)\n",
    "\n",
    "munich_data_reshaped = munich_data.reshape(7, 1, 3)\n",
    "temperature_data = np.concatenate((temperature_data, munich_data_reshaped), axis=1)\n",
    "print(\"\\n New temperature dataset: \\n\", temperature_data)\n"
   ]
  },
  {
   "cell_type": "raw",
   "id": "d71c9d90-e018-468f-8662-d680e01f11ef",
   "metadata": {},
   "source": [
    "Sub-task 2.4:\n",
    "Calculate the daily average temperature of each city for the entire week."
   ]
  },
  {
   "cell_type": "code",
   "execution_count": 6,
   "id": "fff67f00-d45e-4d2a-bdbe-aa3ddc6e5b75",
   "metadata": {},
   "outputs": [
    {
     "name": "stdout",
     "output_type": "stream",
     "text": [
      "Daily average temperature of each city for the whole week:\n",
      "[[12.66666667  6.66666667  8.66666667 14.33333333 12.66666667]\n",
      " [ 6.33333333  9.33333333  9.66666667  4.33333333  6.66666667]\n",
      " [ 9.33333333 10.33333333  9.33333333  6.33333333  8.66666667]\n",
      " [ 9.33333333 10.         13.66666667 12.         14.33333333]\n",
      " [10.66666667 13.          9.         15.66666667  6.33333333]\n",
      " [13.66666667  9.33333333  9.33333333  9.66666667  9.33333333]\n",
      " [10.66666667  8.          6.66666667 14.66666667  9.66666667]]\n"
     ]
    }
   ],
   "source": [
    "daily_avg_temperature = np.mean(temperature_data, axis=2)\n",
    "print(\"Daily average temperature of each city for the whole week:\")\n",
    "print(daily_avg_temperature)"
   ]
  },
  {
   "cell_type": "raw",
   "id": "6b1b9390-907a-4211-add9-34f7b2794dd4",
   "metadata": {},
   "source": [
    "Sub-task 2.5:\n",
    "Find the city/cities with the lowest daily temperature variation (max-min). Also find the respective day. The result can be a 2D numpy array with day and city information as shown in the Expected output below."
   ]
  },
  {
   "cell_type": "code",
   "execution_count": 8,
   "id": "ab5c8036-1b2e-40bb-b9f8-6ae40332c154",
   "metadata": {},
   "outputs": [
    {
     "name": "stdout",
     "output_type": "stream",
     "text": [
      "Days, cities with the lowest daily temperature variation:\n",
      "[[0 2]\n",
      " [2 4]]\n"
     ]
    }
   ],
   "source": [
    "temp_variation = np.max(temperature_data, axis=2) - np.min(temperature_data, axis=2)\n",
    "min_temp_variation = np.min(temp_variation)\n",
    "min_indices = np.argwhere(temp_variation == min_temp_variation)\n",
    "print(\"Days, cities with the lowest daily temperature variation:\")\n",
    "print(min_indices)"
   ]
  }
 ],
 "metadata": {
  "kernelspec": {
   "display_name": "Python 3 (ipykernel)",
   "language": "python",
   "name": "python3"
  },
  "language_info": {
   "codemirror_mode": {
    "name": "ipython",
    "version": 3
   },
   "file_extension": ".py",
   "mimetype": "text/x-python",
   "name": "python",
   "nbconvert_exporter": "python",
   "pygments_lexer": "ipython3",
   "version": "3.11.7"
  }
 },
 "nbformat": 4,
 "nbformat_minor": 5
}
